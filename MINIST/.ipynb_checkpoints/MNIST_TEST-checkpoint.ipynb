{
 "cells": [
  {
   "cell_type": "code",
   "execution_count": null,
   "metadata": {},
   "outputs": [],
   "source": [
    "import glob\n",
    "import cv2\n",
    " \n",
    "'''cut the img_1024*1024 into  img_46*46,the sampling interval is 30'''\n",
    "src_img=\"./number_matrix.bmp\" #the scr_img  1024*1024\n",
    "count=0\n",
    "img_src= cv2.imread(src_img)\n",
    "for x in range (0,(3360-28),28):\n",
    "    for y in range (0,(2240-28),28):\n",
    "        img_cut = img_src[x:x + 28, y:y + 28]\n",
    "        count += 1\n",
    "#         cv2.imwrite(save_dir, img_cut)"
   ]
  }
 ],
 "metadata": {
  "kernelspec": {
   "display_name": "Python 3",
   "language": "python",
   "name": "python3"
  },
  "language_info": {
   "codemirror_mode": {
    "name": "ipython",
    "version": 3
   },
   "file_extension": ".py",
   "mimetype": "text/x-python",
   "name": "python",
   "nbconvert_exporter": "python",
   "pygments_lexer": "ipython3",
   "version": "3.7.3"
  }
 },
 "nbformat": 4,
 "nbformat_minor": 2
}
