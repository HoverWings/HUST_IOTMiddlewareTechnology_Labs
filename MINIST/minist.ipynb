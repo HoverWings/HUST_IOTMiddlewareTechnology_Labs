{
 "cells": [
  {
   "cell_type": "code",
   "execution_count": 5,
   "metadata": {
    "_uuid": "e5d71ebffaaa868cf3173b24a32fb478cf8b0d16"
   },
   "outputs": [
    {
     "name": "stderr",
     "output_type": "stream",
     "text": [
      "Using TensorFlow backend.\n"
     ]
    }
   ],
   "source": [
    "%matplotlib inline\n",
    "import numpy as np\n",
    "import pandas as pd\n",
    "import seaborn as sns\n",
    "from sklearn.preprocessing import StandardScaler\n",
    "import matplotlib.pyplot as plt\n",
    "from sklearn.model_selection import GridSearchCV\n",
    "from sklearn.model_selection import train_test_split\n",
    "import keras\n",
    "from keras.models import Sequential\n",
    "from keras.layers import Dense, Dropout, Flatten\n",
    "from keras.layers import Conv2D, MaxPooling2D\n",
    "from keras.optimizers import SGD\n",
    "from keras.preprocessing.image import ImageDataGenerator"
   ]
  },
  {
   "cell_type": "code",
   "execution_count": 6,
   "metadata": {
    "_uuid": "079cfbd31af1406537c3698a3eaf1c0ddb77e11e"
   },
   "outputs": [
    {
     "name": "stdout",
     "output_type": "stream",
     "text": [
      "WARNING:tensorflow:From /usr/lib/python3.7/site-packages/tensorflow/python/framework/op_def_library.py:263: colocate_with (from tensorflow.python.framework.ops) is deprecated and will be removed in a future version.\n",
      "Instructions for updating:\n",
      "Colocations handled automatically by placer.\n",
      "WARNING:tensorflow:From /usr/lib/python3.7/site-packages/keras/backend/tensorflow_backend.py:3445: calling dropout (from tensorflow.python.ops.nn_ops) with keep_prob is deprecated and will be removed in a future version.\n",
      "Instructions for updating:\n",
      "Please use `rate` instead of `keep_prob`. Rate should be set to `rate = 1 - keep_prob`.\n",
      "_________________________________________________________________\n",
      "Layer (type)                 Output Shape              Param #   \n",
      "=================================================================\n",
      "conv2d_1 (Conv2D)            (None, 28, 28, 64)        640       \n",
      "_________________________________________________________________\n",
      "conv2d_2 (Conv2D)            (None, 28, 28, 64)        36928     \n",
      "_________________________________________________________________\n",
      "conv2d_3 (Conv2D)            (None, 28, 28, 128)       73856     \n",
      "_________________________________________________________________\n",
      "conv2d_4 (Conv2D)            (None, 1, 1, 128)         12845184  \n",
      "_________________________________________________________________\n",
      "flatten_1 (Flatten)          (None, 128)               0         \n",
      "_________________________________________________________________\n",
      "dense_1 (Dense)              (None, 256)               33024     \n",
      "_________________________________________________________________\n",
      "dropout_1 (Dropout)          (None, 256)               0         \n",
      "_________________________________________________________________\n",
      "dense_2 (Dense)              (None, 10)                2570      \n",
      "=================================================================\n",
      "Total params: 12,992,202\n",
      "Trainable params: 12,992,202\n",
      "Non-trainable params: 0\n",
      "_________________________________________________________________\n"
     ]
    }
   ],
   "source": [
    "model = Sequential()\n",
    "callbacks = [keras.callbacks.ModelCheckpoint('minist.h5', monitor='val_acc', verbose=1, save_best_only=True,\n",
    "                            mode='auto')]\n",
    "model.add(Conv2D(64, kernel_size=(3, 3),\n",
    "                 activation='relu',padding='same',\n",
    "                 input_shape=(28,28,1)))\n",
    "model.add(Conv2D(64, (3, 3),padding='same', activation='relu'))\n",
    "model.add(Conv2D(128, (3, 3),padding='same', activation='relu'))\n",
    "model.add(Conv2D(128, (28, 28),activation='relu'))\n",
    "model.add(Flatten())\n",
    "model.add(Dense(256, activation='relu'))\n",
    "model.add(Dropout(0.5))\n",
    "model.add(Dense(10, activation='softmax'))\n",
    "model.summary()\n",
    "sgd = SGD(lr=0.01, momentum=0.9)\n",
    "model.compile(loss='categorical_crossentropy', optimizer=sgd, metrics=['accuracy'])\n",
    "# model.fit(x_train, y_train,\n",
    "#           batch_size=128,\n",
    "#           epochs=50,\n",
    "#           verbose=1,\n",
    "#           validation_data=(x_test, y_test),callbacks=callbacks)"
   ]
  },
  {
   "cell_type": "code",
   "execution_count": 17,
   "metadata": {
    "_uuid": "97e9a7247bd7a0973c8de3cca2e188eef4bd3f49"
   },
   "outputs": [],
   "source": [
    "model.load_weights('minist_new.h5')\n",
    "log_filepath = '/tmp/keras_log'\n",
    "tb_cb = keras.callbacks.TensorBoard(log_dir=log_filepath, write_images=1, histogram_freq=1)"
   ]
  },
  {
   "cell_type": "code",
   "execution_count": 18,
   "metadata": {
    "_uuid": "f33ff9cef93ca72d03b4c358e629608c1cc13b1b"
   },
   "outputs": [
    {
     "name": "stdout",
     "output_type": "stream",
     "text": [
      "5识别为：5\n",
      "acc 1.0\n",
      "9识别为：9\n",
      "acc 1.0\n",
      "3识别为：3\n",
      "acc 1.0\n",
      "0识别为：0\n",
      "acc 1.0\n",
      "2识别为：2\n",
      "acc 1.0\n"
     ]
    }
   ],
   "source": [
    "import cv2\n",
    "import os\n",
    "import re\n",
    "file_path = \"./test\"\n",
    "path_list = os.listdir(file_path)\n",
    "acc=0.0\n",
    "total=0\n",
    "right=0\n",
    "for i in path_list:\n",
    "    image = cv2.imread('./test/'+i)\n",
    "    label = re.findall('\\d+',i)[0]\n",
    "#     print(label)\n",
    "    img = cv2.cvtColor(image,cv2.COLOR_RGB2GRAY) # RGB图像转为gray\n",
    "    img = cv2.bitwise_not(img)\n",
    "    img = cv2.resize(img, (28, 28), interpolation=cv2.INTER_CUBIC)\n",
    "    predict = model.predict_classes(img.reshape(1,28,28,1))\n",
    "    total=total+1\n",
    "    print(str(label)+\"识别为：\"+str(predict[0]))\n",
    "    if int(label)==int(predict[0]):\n",
    "        right=right+1\n",
    "    acc=float(right)/total\n",
    "    print(\"acc\",acc)\n",
    "# print(right)"
   ]
  },
  {
   "cell_type": "code",
   "execution_count": 16,
   "metadata": {
    "_uuid": "0c14d1c3cb01c550b2d75c9afc3ab6eab50727a1"
   },
   "outputs": [
    {
     "name": "stdout",
     "output_type": "stream",
     "text": [
      "0\n",
      "28\n",
      "56\n",
      "84\n",
      "112\n",
      "140\n",
      "168\n",
      "196\n",
      "224\n",
      "252\n",
      "280\n",
      "308\n",
      "336\n",
      "364\n",
      "392\n",
      "420\n",
      "448\n",
      "476\n",
      "504\n",
      "532\n",
      "560\n",
      "588\n",
      "616\n",
      "644\n",
      "672\n",
      "700\n",
      "728\n",
      "756\n",
      "784\n",
      "812\n",
      "840\n",
      "868\n",
      "896\n",
      "924\n",
      "952\n",
      "980\n",
      "1008\n",
      "1036\n",
      "1064\n",
      "1092\n",
      "1120\n",
      "1148\n",
      "1176\n",
      "1204\n",
      "1232\n",
      "1260\n",
      "1288\n",
      "1316\n",
      "1344\n",
      "1372\n",
      "1400\n",
      "1428\n",
      "1456\n",
      "1484\n",
      "1512\n",
      "1540\n",
      "1568\n",
      "1596\n",
      "1624\n",
      "1652\n",
      "1680\n",
      "1708\n",
      "1736\n",
      "1764\n",
      "1792\n",
      "1820\n",
      "1848\n",
      "1876\n",
      "1904\n",
      "1932\n",
      "1960\n",
      "1988\n",
      "2016\n",
      "2044\n",
      "2072\n",
      "2100\n",
      "2128\n",
      "2156\n",
      "2184\n",
      "2212\n",
      "2240\n",
      "2268\n",
      "2296\n",
      "2324\n",
      "2352\n",
      "2380\n",
      "2408\n",
      "2436\n",
      "2464\n",
      "2492\n",
      "2520\n",
      "2548\n",
      "2576\n",
      "2604\n",
      "2632\n",
      "2660\n",
      "2688\n",
      "2716\n",
      "2744\n",
      "2772\n",
      "2800\n",
      "2828\n",
      "2856\n",
      "2884\n",
      "2912\n",
      "2940\n",
      "2968\n",
      "2996\n",
      "3024\n",
      "3052\n",
      "3080\n",
      "3108\n",
      "3136\n",
      "3164\n",
      "3192\n",
      "3220\n",
      "3248\n",
      "3276\n",
      "3304\n",
      "[43262]\n"
     ]
    }
   ],
   "source": [
    "import glob\n",
    "import cv2\n",
    " \n",
    "src_img=\"./number_matrix.bmp\"\n",
    "count=0\n",
    "img_src= cv2.imread(src_img)\n",
    "total=0\n",
    "before_x=0\n",
    "x=0\n",
    "for x in range (0,(3360-28),28):\n",
    "    print(x)\n",
    "    for y in range (0,(2240-28),28):\n",
    "        img_cut = img_src[x:x + 28, y:y + 28]\n",
    "        img = cv2.cvtColor(img_cut,cv2.COLOR_RGB2GRAY) # RGB图像转为gray\n",
    "        img = cv2.bitwise_not(img)\n",
    "        img = cv2.resize(img, (28, 28), interpolation=cv2.INTER_CUBIC)\n",
    "        predict = model.predict_classes(img.reshape(1,28,28,1))\n",
    "        total += predict\n",
    "        count += 1\n",
    "print(total)"
   ]
  },
  {
   "cell_type": "raw",
   "metadata": {
    "_uuid": "a3dbf9c7c9ef8b38ab32210e0290ac01542a7eb0"
   },
   "source": []
  }
 ],
 "metadata": {
  "kernelspec": {
   "display_name": "Python 3",
   "language": "python",
   "name": "python3"
  },
  "language_info": {
   "codemirror_mode": {
    "name": "ipython",
    "version": 3
   },
   "file_extension": ".py",
   "mimetype": "text/x-python",
   "name": "python",
   "nbconvert_exporter": "python",
   "pygments_lexer": "ipython3",
   "version": "3.7.3"
  }
 },
 "nbformat": 4,
 "nbformat_minor": 1
}
